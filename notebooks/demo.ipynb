{
 "cells": [
  {
   "cell_type": "markdown",
   "metadata": {},
   "source": [
    "# Heirarchical Attention Network for text classification"
   ]
  },
  {
   "cell_type": "code",
   "execution_count": 1,
   "metadata": {},
   "outputs": [],
   "source": [
    "## Uncomment command below to kill current job:\n",
    "#!neuro kill $(hostname)"
   ]
  },
  {
   "cell_type": "markdown",
   "metadata": {},
   "source": [
    "Our recipe is based on highly cited paper\n",
    "[Hierarchical Attention Networks for Document Classification](https://arxiv.org/abs/1608.07775) (Z. Yang et al.), \n",
    "published in 2017. We classify the IMDB's reviews as positive and negative\n",
    "(25k reviews for train and the same number for test). The proposed neural network architecture takes two steps:\n",
    "1. It encodes sentences. The attention mechanism predicts the importance for each word in the final embedding of a sentence.\n",
    "2. It encodes texts. The attention mechanism predicts the importance for each sentence in the final embedding of a text.\n",
    "\n",
    "This architecture is exciting because we can make an illustration to understand what words and sentences were\n",
    "important for prediction. You can find more information in the original article."
   ]
  },
  {
   "cell_type": "code",
   "execution_count": 1,
   "metadata": {
    "pycharm": {
     "name": "#%%\n"
    }
   },
   "outputs": [],
   "source": [
    "%load_ext autoreload\n",
    "%autoreload 2\n",
    "\n",
    "import sys\n",
    "sys.path.append(\"..\")\n",
    "\n",
    "from pathlib import Path\n",
    "from src.notebooks_utils import display_predict\n",
    "from src.dataset import get_test_dataset, collate_docs, ImdbReviewsDataset\n",
    "from src.model import HAN\n",
    "from src.const import RESULT_DIR"
   ]
  },
  {
   "cell_type": "markdown",
   "metadata": {},
   "source": [
    "### Load IMDB reviews dataset"
   ]
  },
  {
   "cell_type": "code",
   "execution_count": 3,
   "metadata": {},
   "outputs": [
    {
     "name": "stdout",
     "output_type": "stream",
     "text": [
      "Downloading dataset to ../data\n",
      "--2020-06-01 12:46:07--  http://data.neu.ro/aclImdb.zip\n",
      "Resolving data.neu.ro (data.neu.ro)... 52.216.28.51\n",
      "Connecting to data.neu.ro (data.neu.ro)|52.216.28.51|:80... connected.\n",
      "HTTP request sent, awaiting response... 200 OK\n",
      "Length: 44329613 (42M) [application/zip]\n",
      "Saving to: ‘/tmp/aclImdb.zip’\n",
      "\n",
      "/tmp/aclImdb.zip    100%[===================>]  42.28M  41.7MB/s    in 1.0s    \n",
      "\n",
      "2020-06-01 12:46:08 (41.7 MB/s) - ‘/tmp/aclImdb.zip’ saved [44329613/44329613]\n",
      "\n",
      "Unpacking...\n",
      "Finished\n"
     ]
    }
   ],
   "source": [
    "!sh ../src/download_data.sh ../data"
   ]
  },
  {
   "cell_type": "code",
   "execution_count": 4,
   "metadata": {},
   "outputs": [
    {
     "name": "stdout",
     "output_type": "stream",
     "text": [
      "Dataset loading from ../data/aclImdb/test.\n"
     ]
    },
    {
     "data": {
      "application/vnd.jupyter.widget-view+json": {
       "model_id": "2d6053f99eed4d62b7c4c14a23f5b408",
       "version_major": 2,
       "version_minor": 0
      },
      "text/plain": [
       "HBox(children=(FloatProgress(value=0.0, max=25000.0), HTML(value='')))"
      ]
     },
     "metadata": {},
     "output_type": "display_data"
    },
    {
     "name": "stdout",
     "output_type": "stream",
     "text": [
      "\n"
     ]
    }
   ],
   "source": [
    "dataset = get_test_dataset()\n",
    "itow = dict(zip(dataset.vocab.values(), dataset.vocab.keys()))"
   ]
  },
  {
   "cell_type": "markdown",
   "metadata": {},
   "source": [
    "### Load your trained model"
   ]
  },
  {
   "cell_type": "code",
   "execution_count": 3,
   "metadata": {},
   "outputs": [],
   "source": [
    "# path_to_ckpt = RESULT_DIR / 'logs' / 'checkpoints' / 'best.pth'  # ckpt will apear here you run training\n",
    "# model = HAN.from_imbd_ckpt(path_to_ckpt)"
   ]
  },
  {
   "cell_type": "markdown",
   "metadata": {},
   "source": [
    "### Load pretrained model"
   ]
  },
  {
   "cell_type": "code",
   "execution_count": 4,
   "metadata": {},
   "outputs": [
    {
     "name": "stdout",
     "output_type": "stream",
     "text": [
      "Model was loaded from ../results/pretrained_hier.pth.\n"
     ]
    }
   ],
   "source": [
    "! sh ../src/download_pretrained.sh ../data/pretrained_hier.pth\n",
    "\n",
    "RESULT_DIR = Path(\"../data/\")\n",
    "path_to_ckpt = RESULT_DIR / 'pretrained_hier.pth'\n",
    "model = HAN.from_imbd_ckpt(path_to_ckpt)"
   ]
  },
  {
   "cell_type": "markdown",
   "metadata": {},
   "source": [
    "## Display predict for reviews from test"
   ]
  },
  {
   "cell_type": "code",
   "execution_count": 5,
   "metadata": {
    "scrolled": false
   },
   "outputs": [
    {
     "name": "stdout",
     "output_type": "stream",
     "text": [
      "Predict: negative (confedence: 0.997)\n",
      "Ground truth: negative.\n"
     ]
    },
    {
     "data": {
      "text/html": [
       "<p style=\"font-size:14px;\"><span style=\"background-color: #4646FF\">Sent #1 | </span> <span style=\"background-color: #FEFEFF\">wow</span> <span style=\"background-color: #FEFEFF\">there</span> <span style=\"background-color: #FEFEFF\">are</span> <span style=\"background-color: #FEFEFF\">no</span> <span style=\"background-color: #FFFEFE\">words</span> <span style=\"background-color: #FFFEFE\">to</span> <span style=\"background-color: #FFFEFE\">describe</span> <span style=\"background-color: #FFFEFE\">how</span> <span style=\"background-color: #FFFEFE\">bad</span> <span style=\"background-color: #FEFEFF\">this</span> <span style=\"background-color: #FEFEFF\">movie</span> <span style=\"background-color: #3C3CFF\">truly</span> <span style=\"background-color: #FEFEFF\">is</span></p>"
      ]
     },
     "metadata": {},
     "output_type": "display_data"
    },
    {
     "data": {
      "text/html": [
       "<p style=\"font-size:14px;\"><span style=\"background-color: #FCFCFF\">Sent #2 | </span> <span style=\"background-color: #4040FF\">i</span> <span style=\"background-color: #FEFEFF\">usually</span> <span style=\"background-color: #FEFEFF\">pride</span> <span style=\"background-color: #FAFAFF\">myself</span> <span style=\"background-color: #FEFEFF\">on</span> <span style=\"background-color: #FEFEFF\">being</span> <span style=\"background-color: #FEFEFF\">able</span> <span style=\"background-color: #FEFEFF\">to</span> <span style=\"background-color: #FCFCFF\">enjoy</span> <span style=\"background-color: #FEFEFF\">any</span> <span style=\"background-color: #FEFEFF\">movie</span> <span style=\"background-color: #FEFEFF\">no</span> <span style=\"background-color: #FEFEFF\">matter</span> <span style=\"background-color: #FEFEFF\">how</span> <span style=\"background-color: #FEFEFF\">bad</span> <span style=\"background-color: #FEFEFF\">but</span> <span style=\"background-color: #FEFEFF\">this</span> <span style=\"background-color: #FEFEFF\">was</span> <span style=\"background-color: #FEFEFF\">just</span> <span style=\"background-color: #FEFEFF\">too</span> <span style=\"background-color: #FEFEFF\">much</span></p>"
      ]
     },
     "metadata": {},
     "output_type": "display_data"
    },
    {
     "data": {
      "text/html": [
       "<p style=\"font-size:14px;\"><span style=\"background-color: #FCFCFF\">Sent #3 | </span> <span style=\"background-color: #3C3CFF\">i</span> <span style=\"background-color: #FEFEFF\">would</span> <span style=\"background-color: #FEFEFF\">only</span> <span style=\"background-color: #FEFEFF\">suggest</span> <span style=\"background-color: #FEFEFF\">watching</span> <span style=\"background-color: #FEFEFF\">this</span> <span style=\"background-color: #FEFEFF\">movie</span> <span style=\"background-color: #FEFEFF\">as</span> <span style=\"background-color: #FEFEFF\">a</span> <span style=\"background-color: #FEFEFF\">torture</span> <span style=\"background-color: #FEFEFF\">device</span></p>"
      ]
     },
     "metadata": {},
     "output_type": "display_data"
    },
    {
     "data": {
      "text/html": [
       "<p style=\"font-size:14px;\"><span style=\"background-color: #FEFEFF\">Sent #4 | </span> <span style=\"background-color: #FCFCFF\">if</span> <span style=\"background-color: #4040FF\">you</span> <span style=\"background-color: #FEFEFF\">can</span> <span style=\"background-color: #FEFEFF\">get</span> <span style=\"background-color: #FEFEFF\">past</span> <span style=\"background-color: #FEFEFF\">the</span> <span style=\"background-color: #FEFEFF\">terrible</span> <span style=\"background-color: #FEFEFF\">plot</span> <span style=\"background-color: #FEFEFF\">and</span> <span style=\"background-color: #FEFEFF\">dialogue</span> <span style=\"background-color: #FEFEFF\">by</span> <span style=\"background-color: #FEFEFF\">watching</span> <span style=\"background-color: #FEFEFF\">it</span> <span style=\"background-color: #FEFEFF\">on</span> <span style=\"background-color: #FEFEFF\">mute</span> <span style=\"background-color: #FEFEFF\">the</span> <span style=\"background-color: #FEFEFF\">even</span> <span style=\"background-color: #FEFEFF\">more</span> <span style=\"background-color: #FEFEFF\">terrible</span> <span style=\"background-color: #FEFEFF\">camera</span> <span style=\"background-color: #FEFEFF\">work</span> <span style=\"background-color: #FEFEFF\">and</span> <span style=\"background-color: #FEFEFF\">shoddy</span> <span style=\"background-color: #FEFEFF\">special</span> <span style=\"background-color: #FEFEFF\">effects</span> <span style=\"background-color: #FEFEFF\">make</span> <span style=\"background-color: #FEFEFF\">this</span> <span style=\"background-color: #FEFEFF\">movie</span> <span style=\"background-color: #FEFEFF\">a</span> <span style=\"background-color: #F8F8FF\">real</span> <span style=\"background-color: #FEFEFF\">horror</span></p>"
      ]
     },
     "metadata": {},
     "output_type": "display_data"
    },
    {
     "data": {
      "text/html": [
       "<p style=\"font-size:14px;\"><span style=\"background-color: #FCFCFF\">Sent #5 | </span> <span style=\"background-color: #FEFEFF\">if</span> <span style=\"background-color: #FEFEFF\">your</span> <span style=\"background-color: #FEFEFF\">thinking</span> <span style=\"background-color: #FEFEFF\">about</span> <span style=\"background-color: #FEFEFF\">watching</span> <span style=\"background-color: #FEFEFF\">this</span> <span style=\"background-color: #FEFEFF\">because</span> <span style=\"background-color: #FEFEFF\">your</span> <span style=\"background-color: #FEFEFF\">a</span> <span style=\"background-color: #FEFEFF\">sandra</span> <span style=\"background-color: #FEFEFF\">bullock</span> <span style=\"background-color: #FEFEFF\">fan</span> <span style=\"background-color: #FEFEFF\">don</span> <span style=\"background-color: #FEFEFF\">t</span> <span style=\"background-color: #FEFEFF\">even</span> <span style=\"background-color: #FEFEFF\">bother</span> <span style=\"background-color: #FEFEFF\">as</span> <span style=\"background-color: #FEFEFF\">she</span> <span style=\"background-color: #FEFEFF\">has</span> <span style=\"background-color: #FEFEFF\">less</span> <span style=\"background-color: #FEFEFF\">than</span> <span style=\"background-color: #FEFEFF\">ten</span> <span style=\"background-color: #FEFEFF\">minutes</span> <span style=\"background-color: #FEFEFF\">of</span> <span style=\"background-color: #FEFEFF\">screen</span> <span style=\"background-color: #FEFEFF\">time</span> <span style=\"background-color: #FEFEFF\">and</span> <span style=\"background-color: #FEFEFF\">her</span> <span style=\"background-color: #FEFEFF\">acting</span> <span style=\"background-color: #FEFEFF\">is</span> <span style=\"background-color: #3C3CFF\">absolutely</span> <span style=\"background-color: #FEFEFF\">atrocious</span></p>"
      ]
     },
     "metadata": {},
     "output_type": "display_data"
    },
    {
     "data": {
      "text/html": [
       "<p style=\"font-size:14px;\"><span style=\"background-color: #F3F3FF\">Sent #6 | </span> <span style=\"background-color: #8383FF\">not</span> <span style=\"background-color: #FEFEFF\">to</span> <span style=\"background-color: #FEFEFF\">mention</span> <span style=\"background-color: #FEFEFF\">the</span> <span style=\"background-color: #FEFEFF\">rest</span> <span style=\"background-color: #FEFEFF\">of</span> <span style=\"background-color: #FEFEFF\">the</span> <span style=\"background-color: #FEFEFF\">cast</span> <span style=\"background-color: #FEFEFF\">which</span> <span style=\"background-color: #FEFEFF\">could</span> <span style=\"background-color: #FEFEFF\">be</span> <span style=\"background-color: #FEFEFF\">replaced</span> <span style=\"background-color: #FEFEFF\">with</span> <span style=\"background-color: #FCFCFF\">baboons</span> <span style=\"background-color: #9393FF\">who</span> <span style=\"background-color: #FEFEFF\">would</span> <span style=\"background-color: #FEFEFF\">do</span> <span style=\"background-color: #FEFEFF\">a</span> <span style=\"background-color: #FEFEFF\">better</span> <span style=\"background-color: #FEFEFF\">job</span> <span style=\"background-color: #FEFEFF\">at</span> <span style=\"background-color: #FEFEFF\">least</span> <span style=\"background-color: #FEFEFF\">then</span> <span style=\"background-color: #FEFEFF\">we</span> <span style=\"background-color: #FEFEFF\">wouldn</span> <span style=\"background-color: #FEFEFF\">t</span> <span style=\"background-color: #FEFEFF\">have</span> <span style=\"background-color: #FEFEFF\">to</span> <span style=\"background-color: #FEFEFF\">listen</span> <span style=\"background-color: #FEFEFF\">to</span> <span style=\"background-color: #FEFEFF\">the</span> <span style=\"background-color: #FEFEFF\">terrible</span> <span style=\"background-color: #FEFEFF\">dialogue</span></p>"
      ]
     },
     "metadata": {},
     "output_type": "display_data"
    },
    {
     "name": "stdout",
     "output_type": "stream",
     "text": [
      "Raw review:\n",
      "Wow, there are no words to describe how bad this movie truly is. I usually pride myself on being able to enjoy any movie no matter how bad, but this was just too much. I would only suggest watching this movie as a torture device. If you can get past the terrible plot and dialogue by watching it on mute, the even more terrible camera work and shoddy special effects make this movie a real horror. If your thinking about watching this because your a Sandra Bullock fan, don't even bother as she has less than ten minutes of screen time, and her acting is absolutely atrocious. Not to mention the rest of the cast, which could be replaced with baboons who would do a better job, at least then we wouldn't have to listen to the terrible dialogue.\n"
     ]
    }
   ],
   "source": [
    "from random import randint\n",
    "\n",
    "idx = randint(1, len(dataset))\n",
    "batch = collate_docs([dataset[idx]])\n",
    "display_predict(model=model, batch=batch, itow=itow)\n",
    "    \n",
    "print('Raw review:')\n",
    "print(open(dataset._paths[idx], 'r').read())"
   ]
  },
  {
   "cell_type": "markdown",
   "metadata": {},
   "source": [
    "## Display predict on your own review"
   ]
  },
  {
   "cell_type": "code",
   "execution_count": 6,
   "metadata": {},
   "outputs": [
    {
     "name": "stdout",
     "output_type": "stream",
     "text": [
      "Predict: positive (confedence: 0.334)\n"
     ]
    },
    {
     "data": {
      "text/html": [
       "<p style=\"font-size:14px;\"><span style=\"background-color: #FEFEFF\">Sent #1 | </span> <span style=\"background-color: #B6B6FF\">i</span> <span style=\"background-color: #6666FF\">really</span> <span style=\"background-color: #FAFAFF\">like</span> <span style=\"background-color: #FEFEFF\">films</span> <span style=\"background-color: #FEFEFF\">like</span> <span style=\"background-color: #FEFEFF\">this</span> <span style=\"background-color: #FEFEFF\">!</span></p>"
      ]
     },
     "metadata": {},
     "output_type": "display_data"
    },
    {
     "data": {
      "text/html": [
       "<p style=\"font-size:14px;\"><span style=\"background-color: #FEFEFF\">Sent #2 | </span> <span style=\"background-color: #FEFEFF\">i</span> <span style=\"background-color: #3C3CFF\">discover</span> <span style=\"background-color: #FEFEFF\">several</span> <span style=\"background-color: #FEFEFF\">new</span> <span style=\"background-color: #FEFEFF\">talents</span> <span style=\"background-color: #FEFEFF\">for</span> <span style=\"background-color: #FEFEFF\">myself</span></p>"
      ]
     },
     "metadata": {},
     "output_type": "display_data"
    },
    {
     "data": {
      "text/html": [
       "<p style=\"font-size:14px;\"><span style=\"background-color: #3C3CFF\">Sent #3 | </span> <span style=\"background-color: #FEFEFF\">the</span> <span style=\"background-color: #FEFEFF\">sound</span> <span style=\"background-color: #FEFEFF\">was</span> <span style=\"background-color: #3C3CFF\">great</span> <span style=\"background-color: #FEFEFF\">and</span> <span style=\"background-color: #FEFEFF\">picture</span> <span style=\"background-color: #FEFEFF\">as</span> <span style=\"background-color: #FEFEFF\">well</span></p>"
      ]
     },
     "metadata": {},
     "output_type": "display_data"
    },
    {
     "data": {
      "text/html": [
       "<p style=\"font-size:14px;\"><span style=\"background-color: #FEFEFF\">Sent #4 | </span> <span style=\"background-color: #5E5EFF\">so</span> <span style=\"background-color: #C2C2FF\">i</span> <span style=\"background-color: #FEFEFF\">am</span> <span style=\"background-color: #FAFAFF\">going</span> <span style=\"background-color: #FEFEFF\">to</span> <span style=\"background-color: #FEFEFF\">see</span> <span style=\"background-color: #FEFEFF\">it</span> <span style=\"background-color: #FEFEFF\">again</span></p>"
      ]
     },
     "metadata": {},
     "output_type": "display_data"
    }
   ],
   "source": [
    "text_str = '''\n",
    "\n",
    "I really like films like this! I discover several new talents for myself. \n",
    "The sound was great and picture as well. So, I am going to see it again.\n",
    "\n",
    "'''\n",
    "\n",
    "\n",
    "text, snt_max_len, txt_len  = dataset.tokenize_plane_text(text_str)\n",
    "\n",
    "batch = collate_docs([{'txt': text, 'snt_len': snt_max_len,\n",
    "                       'txt_len': txt_len, 'label': -1}])\n",
    "batch['targets'] = None\n",
    "\n",
    "display_predict(model=model, batch=batch, itow=itow)"
   ]
  }
 ],
 "metadata": {
  "kernelspec": {
   "display_name": "Python 3",
   "language": "python",
   "name": "python3"
  },
  "language_info": {
   "codemirror_mode": {
    "name": "ipython",
    "version": 3
   },
   "file_extension": ".py",
   "mimetype": "text/x-python",
   "name": "python",
   "nbconvert_exporter": "python",
   "pygments_lexer": "ipython3",
   "version": "3.6.8"
  },
  "pycharm": {
   "stem_cell": {
    "cell_type": "raw",
    "source": [],
    "metadata": {
     "collapsed": false
    }
   }
  }
 },
 "nbformat": 4,
 "nbformat_minor": 2
}
